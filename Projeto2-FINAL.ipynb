{
 "cells": [
  {
   "cell_type": "code",
   "execution_count": null,
   "metadata": {},
   "outputs": [],
   "source": [
    "# Clustering\n",
    "\n",
    "import pandas as pd\n",
    "import seaborn as sns\n",
    "import matplotlib.pyplot as plt\n",
    "\n",
    "from sklearn.preprocessing import StandardScaler\n",
    "from sklearn.cluster import KMeans\n",
    "\n",
    "\n",
    "\n",
    "df1 = pd.read_csv('https://raw.githubusercontent.com/lucheol/in243/master/projeto/cluster_dataset_1.csv')\n",
    "df2 = pd.read_csv('https://raw.githubusercontent.com/lucheol/in243/master/projeto/cluster_dataset_2.csv')\n",
    "df3 = pd.read_csv('https://raw.githubusercontent.com/lucheol/in243/master/projeto/cluster_dataset_3.csv')"
   ]
  },
  {
   "cell_type": "code",
   "execution_count": null,
   "metadata": {},
   "outputs": [],
   "source": [
    "df1.head()"
   ]
  },
  {
   "cell_type": "code",
   "execution_count": null,
   "metadata": {},
   "outputs": [],
   "source": [
    "# Excluindo a coluna \"Unnamed: 0\"\n",
    "df1.drop(['Unnamed: 0'], axis=1, inplace=True)\n",
    "df1.head()"
   ]
  },
  {
   "cell_type": "code",
   "execution_count": null,
   "metadata": {},
   "outputs": [],
   "source": [
    "df2.drop(['Unnamed: 0'], axis=1, inplace=True)\n",
    "df2.head()"
   ]
  },
  {
   "cell_type": "code",
   "execution_count": null,
   "metadata": {},
   "outputs": [],
   "source": [
    "df3.drop(['Unnamed: 0'], axis=1, inplace=True)\n",
    "df3.head()"
   ]
  },
  {
   "cell_type": "code",
   "execution_count": null,
   "metadata": {},
   "outputs": [],
   "source": [
    "#Realiza ajuste das médias, de forma que os filmes com menor quantidade por genero, recebam peso conforme sua média.\n",
    "\n",
    "scaler = StandardScaler()\n",
    "scaled_df1 = scaler.fit_transform(df1)\n",
    "scaled_df2 = scaler.fit_transform(df2)\n",
    "scaled_df3 = scaler.fit_transform(df3)\n"
   ]
  },
  {
   "cell_type": "code",
   "execution_count": null,
   "metadata": {},
   "outputs": [],
   "source": [
    "model1 = KMeans(n_clusters=20)\n",
    "model2 = KMeans(n_clusters=20)\n",
    "model3 = KMeans(n_clusters=20)\n",
    "\n",
    "model1.fit(scaled_df1)\n",
    "model2.fit(scaled_df2)\n",
    "model3.fit(scaled_df3)\n",
    "\n"
   ]
  },
  {
   "cell_type": "code",
   "execution_count": null,
   "metadata": {},
   "outputs": [],
   "source": [
    "model1.labels_"
   ]
  },
  {
   "cell_type": "code",
   "execution_count": null,
   "metadata": {},
   "outputs": [],
   "source": [
    "model2.labels_"
   ]
  },
  {
   "cell_type": "code",
   "execution_count": null,
   "metadata": {},
   "outputs": [],
   "source": [
    "model3.labels_"
   ]
  },
  {
   "cell_type": "code",
   "execution_count": null,
   "metadata": {},
   "outputs": [],
   "source": [
    "df1.columns"
   ]
  },
  {
   "cell_type": "code",
   "execution_count": null,
   "metadata": {},
   "outputs": [],
   "source": [
    "#Distancia de cada genero de filme em relação ao seu centroide (CLUSTER)\n",
    "model1.cluster_centers_"
   ]
  },
  {
   "cell_type": "code",
   "execution_count": null,
   "metadata": {},
   "outputs": [],
   "source": [
    "#Distancia de cada genero de filme em relação ao seu centroide (CLUSTER)\n",
    "model2.cluster_centers_"
   ]
  },
  {
   "cell_type": "code",
   "execution_count": null,
   "metadata": {},
   "outputs": [],
   "source": [
    "#Distancia de cada genero de filme em relação ao seu centroide (CLUSTER)\n",
    "model3.cluster_centers_"
   ]
  },
  {
   "cell_type": "code",
   "execution_count": null,
   "metadata": {},
   "outputs": [],
   "source": [
    "df_groups1 = pd.DataFrame(model1.cluster_centers_, columns = df1.columns)\n",
    "df_groups1.head()"
   ]
  },
  {
   "cell_type": "code",
   "execution_count": null,
   "metadata": {},
   "outputs": [],
   "source": [
    "df_groups2 = pd.DataFrame(model2.cluster_centers_, columns = df2.columns)\n",
    "df_groups2.head()"
   ]
  },
  {
   "cell_type": "code",
   "execution_count": null,
   "metadata": {},
   "outputs": [],
   "source": [
    "df_groups3 = pd.DataFrame(model3.cluster_centers_, columns = df3.columns)\n",
    "df_groups3.head()"
   ]
  },
  {
   "cell_type": "code",
   "execution_count": null,
   "metadata": {},
   "outputs": [],
   "source": [
    "df_groups1.transpose()"
   ]
  },
  {
   "cell_type": "code",
   "execution_count": null,
   "metadata": {},
   "outputs": [],
   "source": [
    "df_groups2.transpose()"
   ]
  },
  {
   "cell_type": "code",
   "execution_count": null,
   "metadata": {},
   "outputs": [],
   "source": [
    "df_groups3.transpose()"
   ]
  },
  {
   "cell_type": "code",
   "execution_count": null,
   "metadata": {},
   "outputs": [],
   "source": [
    "df_groups1.transpose().plot.bar(subplots=True, figsize=(30,30), sharex=False, rot=1)"
   ]
  },
  {
   "cell_type": "code",
   "execution_count": null,
   "metadata": {},
   "outputs": [],
   "source": [
    "df_groups2.transpose().plot.bar(subplots=True, figsize=(30,30), sharex=False, rot=1)"
   ]
  },
  {
   "cell_type": "code",
   "execution_count": null,
   "metadata": {},
   "outputs": [],
   "source": [
    "df_groups3.transpose().plot.bar(subplots=True, figsize=(30,30), sharex=False, rot=1)"
   ]
  },
  {
   "cell_type": "code",
   "execution_count": null,
   "metadata": {},
   "outputs": [],
   "source": [
    "#Conversão de escalas de dimensões\n",
    "from sklearn.manifold import TSNE\n",
    "tsne = TSNE()\n",
    "viewing1 = tsne.fit_transform(scaled_df1)"
   ]
  },
  {
   "cell_type": "code",
   "execution_count": null,
   "metadata": {},
   "outputs": [],
   "source": [
    "#Conversão de escalas de dimensões\n",
    "from sklearn.manifold import TSNE\n",
    "tsne = TSNE()\n",
    "viewing2 = tsne.fit_transform(scaled_df2)"
   ]
  },
  {
   "cell_type": "code",
   "execution_count": null,
   "metadata": {},
   "outputs": [],
   "source": [
    "#Conversão de escalas de dimensões\n",
    "from sklearn.manifold import TSNE\n",
    "tsne = TSNE()\n",
    "viewing3 = tsne.fit_transform(scaled_df3)"
   ]
  },
  {
   "cell_type": "code",
   "execution_count": null,
   "metadata": {},
   "outputs": [],
   "source": [
    "#Criar função para passar numero de clusters e generos\n",
    "def get_kmeans1(numero_clusters, df):\n",
    "    model = KMeans(n_clusters=numero_clusters) #n_clusters é parametro do KMeans\n",
    "    model.fit(df) #treinar com os generos\n",
    "    return (numero_clusters, model.inertia_)"
   ]
  },
  {
   "cell_type": "code",
   "execution_count": null,
   "metadata": {},
   "outputs": [],
   "source": [
    "get_kmeans(20,df1)"
   ]
  },
  {
   "cell_type": "code",
   "execution_count": null,
   "metadata": {},
   "outputs": [],
   "source": [
    "get_kmeans(20,df2)"
   ]
  },
  {
   "cell_type": "code",
   "execution_count": null,
   "metadata": {},
   "outputs": [],
   "source": [
    "get_kmeans(20,df3)"
   ]
  },
  {
   "cell_type": "code",
   "execution_count": null,
   "metadata": {},
   "outputs": [],
   "source": [
    "resultado1 = [get_kmeans(numero_de_grupos, scaled_df1) for numero_de_grupos in range (1,41)]"
   ]
  },
  {
   "cell_type": "code",
   "execution_count": null,
   "metadata": {},
   "outputs": [],
   "source": [
    "resultado2 = [get_kmeans(numero_de_grupos, scaled_df2) for numero_de_grupos in range (1,41)]"
   ]
  },
  {
   "cell_type": "code",
   "execution_count": null,
   "metadata": {},
   "outputs": [],
   "source": [
    "resultado3 = [get_kmeans(numero_de_grupos, scaled_df3) for numero_de_grupos in range (1,41)]"
   ]
  },
  {
   "cell_type": "code",
   "execution_count": null,
   "metadata": {},
   "outputs": [],
   "source": [
    "resultado1 = pd.DataFrame(resultado1, columns=['groups','inertia'])\n",
    "resultado1.head()"
   ]
  },
  {
   "cell_type": "code",
   "execution_count": null,
   "metadata": {},
   "outputs": [],
   "source": [
    "resultado2 = pd.DataFrame(resultado2, columns=['groups','inertia'])\n",
    "resultado2.head()"
   ]
  },
  {
   "cell_type": "code",
   "execution_count": null,
   "metadata": {},
   "outputs": [],
   "source": [
    "resultado3 = pd.DataFrame(resultado3, columns=['groups','inertia'])\n",
    "resultado3.head()"
   ]
  },
  {
   "cell_type": "code",
   "execution_count": null,
   "metadata": {},
   "outputs": [],
   "source": [
    "resultado1['inertia'].plot(xticks=resultado1['groups'])"
   ]
  },
  {
   "cell_type": "code",
   "execution_count": null,
   "metadata": {},
   "outputs": [],
   "source": [
    "df1.info(verbose=True)"
   ]
  },
  {
   "cell_type": "code",
   "execution_count": null,
   "metadata": {},
   "outputs": [],
   "source": [
    "model1 = KMeans(n_clusters=2)\n",
    "model1.fit(scaled_df1)\n",
    "model1.labels_"
   ]
  },
  {
   "cell_type": "code",
   "execution_count": null,
   "metadata": {},
   "outputs": [],
   "source": [
    "sns.set(rc={'figure.figsize': (10,10)})\n",
    "sns.scatterplot(x=viewing1[:,0], y=viewing1[:,1], hue=model1.labels_,\n",
    "               palette=sns.color_palette('Set1',2))"
   ]
  },
  {
   "cell_type": "code",
   "execution_count": null,
   "metadata": {},
   "outputs": [],
   "source": [
    "resultado2['inertia'].plot(xticks=resultado2['groups'])"
   ]
  },
  {
   "cell_type": "code",
   "execution_count": null,
   "metadata": {},
   "outputs": [],
   "source": [
    "df2.info(verbose=True)"
   ]
  },
  {
   "cell_type": "code",
   "execution_count": null,
   "metadata": {},
   "outputs": [],
   "source": [
    "model2 = KMeans(n_clusters=2)\n",
    "model2.fit(scaled_df2)\n",
    "model2.labels_"
   ]
  },
  {
   "cell_type": "code",
   "execution_count": null,
   "metadata": {},
   "outputs": [],
   "source": [
    "sns.set(rc={'figure.figsize': (10,10)})\n",
    "sns.scatterplot(x=viewing2[:,0], y=viewing2[:,1], hue=model2.labels_,\n",
    "               palette=sns.color_palette('Set1',2))"
   ]
  },
  {
   "cell_type": "code",
   "execution_count": null,
   "metadata": {},
   "outputs": [],
   "source": [
    "resultado3['inertia'].plot(xticks=resultado3['groups'])"
   ]
  },
  {
   "cell_type": "code",
   "execution_count": null,
   "metadata": {},
   "outputs": [],
   "source": [
    "df3.info(verbose=True)"
   ]
  },
  {
   "cell_type": "code",
   "execution_count": null,
   "metadata": {},
   "outputs": [],
   "source": [
    "model3 = KMeans(n_clusters=2)\n",
    "model3.fit(scaled_df3)\n",
    "model3.labels_"
   ]
  },
  {
   "cell_type": "code",
   "execution_count": null,
   "metadata": {},
   "outputs": [],
   "source": [
    "sns.set(rc={'figure.figsize': (10,10)})\n",
    "sns.scatterplot(x=viewing3[:,0], y=viewing3[:,1], hue=model3.labels_,\n",
    "               palette=sns.color_palette('Set1',2))"
   ]
  },
  {
   "cell_type": "code",
   "execution_count": null,
   "metadata": {},
   "outputs": [],
   "source": [
    "from scipy.cluster.hierarchy import dendrogram, linkage\n",
    "from sklearn.cluster import KMeans"
   ]
  },
  {
   "cell_type": "code",
   "execution_count": null,
   "metadata": {},
   "outputs": [],
   "source": [
    "model3 = KMeans(n_clusters=2)\n",
    "model3.fit(scaled_df3)\n",
    "\n",
    "df_groups3 = pd.DataFrame(model3.cluster_centers_, columns = df3.columns)"
   ]
  },
  {
   "cell_type": "code",
   "execution_count": null,
   "metadata": {},
   "outputs": [],
   "source": [
    "distance_matrix3 = linkage(df_groups3)"
   ]
  },
  {
   "cell_type": "code",
   "execution_count": null,
   "metadata": {},
   "outputs": [],
   "source": [
    "dendrogram(distance_matrix3)"
   ]
  },
  {
   "cell_type": "code",
   "execution_count": null,
   "metadata": {},
   "outputs": [],
   "source": [
    "model3 = KMeans(n_clusters=5)\n",
    "model3.fit(scaled_df3)\n",
    "model3.labels_"
   ]
  },
  {
   "cell_type": "code",
   "execution_count": null,
   "metadata": {},
   "outputs": [],
   "source": []
  }
 ],
 "metadata": {
  "kernelspec": {
   "display_name": "Python 3",
   "language": "python",
   "name": "python3"
  },
  "language_info": {
   "codemirror_mode": {
    "name": "ipython",
    "version": 3
   },
   "file_extension": ".py",
   "mimetype": "text/x-python",
   "name": "python",
   "nbconvert_exporter": "python",
   "pygments_lexer": "ipython3",
   "version": "3.6.8"
  }
 },
 "nbformat": 4,
 "nbformat_minor": 2
}
